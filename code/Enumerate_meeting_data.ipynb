{
 "cells": [
  {
   "cell_type": "code",
   "execution_count": 1,
   "metadata": {},
   "outputs": [],
   "source": [
    "## Author- Eva Agrawal\n",
    "## Date- 14/12/2020\n",
    "## Description- Script to enumerate the 'Materia' field and add 'Matera_ID' \n",
    "##              in the cleaned dataset for Data Integration"
   ]
  },
  {
   "cell_type": "code",
   "execution_count": 2,
   "metadata": {},
   "outputs": [],
   "source": [
    "import json\n",
    "import os"
   ]
  },
  {
   "cell_type": "code",
   "execution_count": 3,
   "metadata": {},
   "outputs": [],
   "source": [
    "# Opening JSON file \n",
    "with open(os.path.expanduser('~/Desktop/Datasets/Informal_modelling/Data/Meeting_data_clean.json')) as f:\n",
    "    file = json.load(f)"
   ]
  },
  {
   "cell_type": "code",
   "execution_count": 4,
   "metadata": {},
   "outputs": [
    {
     "name": "stdout",
     "output_type": "stream",
     "text": [
      "[['cultura', 'incontri', 'sport'], ['arte.', 'cultura', 'musei'], ['cinema', 'cultura', 'montagna'], ['cultura', 'mascherine. riciclo', 'riuso'], ['Sandro Formica', 'economia', 'famiglia'], ['cultura', 'incontri', 'musei'], ['alberi', 'ambiente', 'ora legale'], ['archeologia', 'attività', 'storia'], ['estate', 'musei', 'natura'], ['giochi', 'muse', 'quarantena'], ['biblioteche', 'cultura', 'libri'], ['biblioteca', 'cultura', 'libri'], ['bambini', 'cultura', 'storia'], ['cultura', 'economia', 'società'], ['bambini', 'famiglie', 'musei'], ['cultura', 'incontri', 'montagna'], ['bambini', 'comune', 'trento'], ['coronavisrus', 'scienza', 'social'], ['muse', 'scienza', 'scuole'], ['arte', 'festival', 'incontri']]\n"
     ]
    }
   ],
   "source": [
    "#make a set of all the unique categories \n",
    "cat_list = list(item['materia'] for item in file)\n",
    "\n",
    "unique_cat = (cat_list)\n",
    "\n",
    "print((unique_cat))\n",
    "      "
   ]
  },
  {
   "cell_type": "code",
   "execution_count": 5,
   "metadata": {},
   "outputs": [],
   "source": [
    "full_list = []\n",
    "for sublist in unique_cat:\n",
    "    for item in sublist:\n",
    "        full_list.append(item)\n",
    "        "
   ]
  },
  {
   "cell_type": "code",
   "execution_count": 6,
   "metadata": {},
   "outputs": [
    {
     "name": "stdout",
     "output_type": "stream",
     "text": [
      "['cultura', 'incontri', 'sport', 'arte.', 'cultura', 'musei', 'cinema', 'cultura', 'montagna', 'cultura', 'mascherine. riciclo', 'riuso', 'Sandro Formica', 'economia', 'famiglia', 'cultura', 'incontri', 'musei', 'alberi', 'ambiente', 'ora legale', 'archeologia', 'attività', 'storia', 'estate', 'musei', 'natura', 'giochi', 'muse', 'quarantena', 'biblioteche', 'cultura', 'libri', 'biblioteca', 'cultura', 'libri', 'bambini', 'cultura', 'storia', 'cultura', 'economia', 'società', 'bambini', 'famiglie', 'musei', 'cultura', 'incontri', 'montagna', 'bambini', 'comune', 'trento', 'coronavisrus', 'scienza', 'social', 'muse', 'scienza', 'scuole', 'arte', 'festival', 'incontri']\n"
     ]
    }
   ],
   "source": [
    "print((full_list))"
   ]
  },
  {
   "cell_type": "code",
   "execution_count": 7,
   "metadata": {},
   "outputs": [
    {
     "name": "stdout",
     "output_type": "stream",
     "text": [
      "['cultura', 'incontri', 'sport', 'arte.', 'musei', 'cinema', 'montagna', 'mascherine. riciclo', 'riuso', 'Sandro Formica', 'economia', 'famiglia', 'alberi', 'ambiente', 'ora legale', 'archeologia', 'attività', 'storia', 'estate', 'natura', 'giochi', 'muse', 'quarantena', 'biblioteche', 'libri', 'biblioteca', 'bambini', 'società', 'famiglie', 'comune', 'trento', 'coronavisrus', 'scienza', 'social', 'scuole', 'arte', 'festival']\n",
      "37\n"
     ]
    }
   ],
   "source": [
    "unique_list = list(dict.fromkeys(full_list))\n",
    "print(unique_list)\n",
    "print(len(unique_list))"
   ]
  },
  {
   "cell_type": "code",
   "execution_count": 8,
   "metadata": {},
   "outputs": [
    {
     "name": "stdout",
     "output_type": "stream",
     "text": [
      "[{'ID': 1, 'Category': 'cultura'}, {'ID': 2, 'Category': 'incontri'}, {'ID': 3, 'Category': 'sport'}, {'ID': 4, 'Category': 'arte.'}, {'ID': 5, 'Category': 'musei'}, {'ID': 6, 'Category': 'cinema'}, {'ID': 7, 'Category': 'montagna'}, {'ID': 8, 'Category': 'mascherine. riciclo'}, {'ID': 9, 'Category': 'riuso'}, {'ID': 10, 'Category': 'Sandro Formica'}, {'ID': 11, 'Category': 'economia'}, {'ID': 12, 'Category': 'famiglia'}, {'ID': 13, 'Category': 'alberi'}, {'ID': 14, 'Category': 'ambiente'}, {'ID': 15, 'Category': 'ora legale'}, {'ID': 16, 'Category': 'archeologia'}, {'ID': 17, 'Category': 'attività'}, {'ID': 18, 'Category': 'storia'}, {'ID': 19, 'Category': 'estate'}, {'ID': 20, 'Category': 'natura'}, {'ID': 21, 'Category': 'giochi'}, {'ID': 22, 'Category': 'muse'}, {'ID': 23, 'Category': 'quarantena'}, {'ID': 24, 'Category': 'biblioteche'}, {'ID': 25, 'Category': 'libri'}, {'ID': 26, 'Category': 'biblioteca'}, {'ID': 27, 'Category': 'bambini'}, {'ID': 28, 'Category': 'società'}, {'ID': 29, 'Category': 'famiglie'}, {'ID': 30, 'Category': 'comune'}, {'ID': 31, 'Category': 'trento'}, {'ID': 32, 'Category': 'coronavisrus'}, {'ID': 33, 'Category': 'scienza'}, {'ID': 34, 'Category': 'social'}, {'ID': 35, 'Category': 'scuole'}, {'ID': 36, 'Category': 'arte'}, {'ID': 37, 'Category': 'festival'}]\n"
     ]
    }
   ],
   "source": [
    "#enumerate the categories and create a new JSON file\n",
    "meeting_categories = []\n",
    "x = 1\n",
    "for cat in unique_list:\n",
    "    cat_name = cat\n",
    "    cat_id = x\n",
    "    x = x + 1\n",
    "    \n",
    "    category = {'ID': cat_id, 'Category': cat_name}\n",
    "#     print(category)\n",
    "    meeting_categories.append(category)\n",
    "    \n",
    "with open('meeting_categories.json','w') as f:\n",
    "    json.dump(meeting_categories,f,indent=4)\n",
    "print(meeting_categories)    "
   ]
  },
  {
   "cell_type": "code",
   "execution_count": 9,
   "metadata": {},
   "outputs": [],
   "source": [
    "# impute the new category IDs in the Meeting_data file\n",
    "for i in file:\n",
    "    materia_ids = []\n",
    "    item_list = i['materia']\n",
    "    for cat in item_list:\n",
    "        for j in meeting_categories:\n",
    "            if cat == j['Category']:\n",
    "                cat =  j['ID']\n",
    "                materia_ids.append(cat)\n",
    "    i['materia_ids'] = materia_ids\n",
    "           \n",
    "with open('Meeting_data_clean.json','w') as f:\n",
    "    json.dump(file,f,indent=4)  "
   ]
  },
  {
   "cell_type": "code",
   "execution_count": 10,
   "metadata": {
    "scrolled": false
   },
   "outputs": [
    {
     "data": {
      "text/plain": [
       "{'Title': 'Mart on web. “L’inchiesta spezzata. Perché hanno ucciso Pier Paolo Pasolini”',\n",
       " 'Rating': 4,\n",
       " 'Dove': \"['Indirizzo non disponibile']\",\n",
       " 'Prezzo': 0,\n",
       " 'From_time': '2020-11-27 00:00:00',\n",
       " 'To_time': '2020-11-27 00:00:00',\n",
       " 'Altre Informazioni': ['no information'],\n",
       " 'materia': ['arte.', 'cultura', 'musei'],\n",
       " 'Figure': '//citynews-trentotoday.stgy.ovh/~media/original-hi/26403147865766/external-content-duckduckgo-com-13-2.jpg',\n",
       " 'Body': ['Nuovo appuntamento del palinsesto \"Caravaggio, Pasolini e altri corsari\": venerdì 27 novembre alle 18.30 incontro con la giornalista Simona Zecchi. Diretta streaming sul profilo Instagram del Mart',\n",
       "  '\\r\\n@martmuseum #martmuseum'],\n",
       " 'materia_ids': [4, 1, 5]}"
      ]
     },
     "execution_count": 10,
     "metadata": {},
     "output_type": "execute_result"
    }
   ],
   "source": [
    "#New file with materia IDs included\n",
    "file[1]"
   ]
  },
  {
   "cell_type": "code",
   "execution_count": null,
   "metadata": {},
   "outputs": [],
   "source": []
  }
 ],
 "metadata": {
  "kernelspec": {
   "display_name": "Python 3",
   "language": "python",
   "name": "python3"
  },
  "language_info": {
   "codemirror_mode": {
    "name": "ipython",
    "version": 3
   },
   "file_extension": ".py",
   "mimetype": "text/x-python",
   "name": "python",
   "nbconvert_exporter": "python",
   "pygments_lexer": "ipython3",
   "version": "3.7.6"
  }
 },
 "nbformat": 4,
 "nbformat_minor": 4
}
