{
 "cells": [
  {
   "cell_type": "code",
   "execution_count": 1,
   "metadata": {},
   "outputs": [],
   "source": [
    "import json\n",
    "import os"
   ]
  },
  {
   "cell_type": "code",
   "execution_count": 2,
   "metadata": {},
   "outputs": [],
   "source": [
    "# Opening JSON file \n",
    "with open(os.path.expanduser('~/Desktop/Datasets/Trento_events.json')) as f:\n",
    "    file = json.load(f)"
   ]
  },
  {
   "cell_type": "code",
   "execution_count": 3,
   "metadata": {},
   "outputs": [
    {
     "name": "stdout",
     "output_type": "stream",
     "text": [
      "5\n"
     ]
    }
   ],
   "source": [
    "#make a set of all the unique categories \n",
    "unique_cat = set(item['Tipo_evento'] for item in file)\n",
    "\n",
    "unique_cat = list(unique_cat)\n",
    "\n",
    "print(len(unique_cat))"
   ]
  },
  {
   "cell_type": "code",
   "execution_count": 5,
   "metadata": {},
   "outputs": [],
   "source": [
    "#enumerate the categories and create a new JSON file\n",
    "event_categories = []\n",
    "x = 1\n",
    "for cat in unique_cat:\n",
    "    cat_name = cat\n",
    "    cat_id = x\n",
    "    x = x + 1\n",
    "    \n",
    "    catageory = {'ID': cat_id, 'Category': cat_name}\n",
    "    event_categories.append(catageory)\n",
    "#     print(tour_categories)\n",
    "    \n",
    "with open('Event_categories.json','w') as f:\n",
    "    json.dump(event_categories,f,indent=4)   "
   ]
  },
  {
   "cell_type": "code",
   "execution_count": 6,
   "metadata": {},
   "outputs": [
    {
     "name": "stdout",
     "output_type": "stream",
     "text": [
      "[{'ID': 1, 'Category': None}, {'ID': 2, 'Category': 'Feste, mercati e fiere'}, {'ID': 3, 'Category': 'Iniziative varie'}, {'ID': 4, 'Category': 'Incontri, convegni e conferenze'}, {'ID': 5, 'Category': 'Mostre'}]\n"
     ]
    }
   ],
   "source": [
    "print(event_categories)"
   ]
  },
  {
   "cell_type": "code",
   "execution_count": 8,
   "metadata": {},
   "outputs": [],
   "source": [
    "# impute the new category IDs in the Tour_data file\n",
    "new_file = []\n",
    "for item in file:\n",
    "    for category in event_categories:\n",
    "        if item['Tipo_evento'] == category['Category']:\n",
    "            item['Tipo_evento'] =  category['ID']\n",
    "#             print(item)\n",
    "    new_file.append(item)            \n",
    "           \n",
    "with open('Trento_events_enumerated.json','w') as f:\n",
    "    json.dump(new_file,f,indent=4) "
   ]
  },
  {
   "cell_type": "code",
   "execution_count": null,
   "metadata": {},
   "outputs": [],
   "source": []
  }
 ],
 "metadata": {
  "kernelspec": {
   "display_name": "Python 3",
   "language": "python",
   "name": "python3"
  },
  "language_info": {
   "codemirror_mode": {
    "name": "ipython",
    "version": 3
   },
   "file_extension": ".py",
   "mimetype": "text/x-python",
   "name": "python",
   "nbconvert_exporter": "python",
   "pygments_lexer": "ipython3",
   "version": "3.7.6"
  }
 },
 "nbformat": 4,
 "nbformat_minor": 4
}
