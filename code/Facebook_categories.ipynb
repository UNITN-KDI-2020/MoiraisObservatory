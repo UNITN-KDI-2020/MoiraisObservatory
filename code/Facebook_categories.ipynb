{
 "cells": [
  {
   "cell_type": "code",
   "execution_count": 1,
   "metadata": {},
   "outputs": [],
   "source": [
    "## Author- Eva Agrawal\n",
    "## Date- 14/12/2020\n",
    "## Description- Script to enumerate the 'Category' field and add 'Category_ID' \n",
    "##              in the cleaned dataset for Data Integration"
   ]
  },
  {
   "cell_type": "code",
   "execution_count": 24,
   "metadata": {},
   "outputs": [],
   "source": [
    "import json\n",
    "import os"
   ]
  },
  {
   "cell_type": "code",
   "execution_count": 25,
   "metadata": {},
   "outputs": [],
   "source": [
    "# Opening JSON file \n",
    "with open(os.path.expanduser('~/Desktop/Datasets/Facebook_events_clean.json')) as f:\n",
    "    file = json.load(f)"
   ]
  },
  {
   "cell_type": "code",
   "execution_count": 26,
   "metadata": {},
   "outputs": [
    {
     "name": "stdout",
     "output_type": "stream",
     "text": [
      "[['Crafts', 'Online'], ['Other', 'Online', 'Live Video'], ['Sports', 'Online'], ['Other', 'Online'], ['Film', 'Online', 'Documentary film', 'European cinema'], ['Networking', 'Online'], ['Art'], ['Art'], ['Art', 'Kid Friendly', 'Online', 'Drawing', 'Art class'], ['Other', 'Online'], ['Party'], ['Causes'], ['Causes'], ['Drinks', 'Online'], ['Party', 'Online'], ['Other', 'Online'], ['Causes'], ['Games', 'Kid Friendly'], ['Fitness', 'Online'], ['Causes', 'Online', 'Live Video', 'Kid Friendly'], ['Other', 'Online', 'Live Video']]\n"
     ]
    }
   ],
   "source": [
    "#make a set of all the unique categories \n",
    "cat_list = list(item['Categories'] for item in file)\n",
    "\n",
    "unique_cat = (cat_list)\n",
    "\n",
    "print((unique_cat))\n",
    "      "
   ]
  },
  {
   "cell_type": "code",
   "execution_count": 27,
   "metadata": {},
   "outputs": [],
   "source": [
    "full_list = []\n",
    "for sublist in unique_cat:\n",
    "    for item in sublist:\n",
    "        full_list.append(item)"
   ]
  },
  {
   "cell_type": "code",
   "execution_count": 28,
   "metadata": {},
   "outputs": [
    {
     "name": "stdout",
     "output_type": "stream",
     "text": [
      "['Crafts', 'Online', 'Other', 'Online', 'Live Video', 'Sports', 'Online', 'Other', 'Online', 'Film', 'Online', 'Documentary film', 'European cinema', 'Networking', 'Online', 'Art', 'Art', 'Art', 'Kid Friendly', 'Online', 'Drawing', 'Art class', 'Other', 'Online', 'Party', 'Causes', 'Causes', 'Drinks', 'Online', 'Party', 'Online', 'Other', 'Online', 'Causes', 'Games', 'Kid Friendly', 'Fitness', 'Online', 'Causes', 'Online', 'Live Video', 'Kid Friendly', 'Other', 'Online', 'Live Video']\n"
     ]
    }
   ],
   "source": [
    "print((full_list))"
   ]
  },
  {
   "cell_type": "code",
   "execution_count": 29,
   "metadata": {},
   "outputs": [
    {
     "name": "stdout",
     "output_type": "stream",
     "text": [
      "['Crafts', 'Online', 'Other', 'Live Video', 'Sports', 'Film', 'Documentary film', 'European cinema', 'Networking', 'Art', 'Kid Friendly', 'Drawing', 'Art class', 'Party', 'Causes', 'Drinks', 'Games', 'Fitness']\n",
      "18\n"
     ]
    }
   ],
   "source": [
    "unique_list = list(dict.fromkeys(full_list))\n",
    "print(unique_list)\n",
    "print(len(unique_list))"
   ]
  },
  {
   "cell_type": "code",
   "execution_count": 30,
   "metadata": {},
   "outputs": [
    {
     "name": "stdout",
     "output_type": "stream",
     "text": [
      "[{'ID': 1, 'Category': 'Crafts'}, {'ID': 2, 'Category': 'Online'}, {'ID': 3, 'Category': 'Other'}, {'ID': 4, 'Category': 'Live Video'}, {'ID': 5, 'Category': 'Sports'}, {'ID': 6, 'Category': 'Film'}, {'ID': 7, 'Category': 'Documentary film'}, {'ID': 8, 'Category': 'European cinema'}, {'ID': 9, 'Category': 'Networking'}, {'ID': 10, 'Category': 'Art'}, {'ID': 11, 'Category': 'Kid Friendly'}, {'ID': 12, 'Category': 'Drawing'}, {'ID': 13, 'Category': 'Art class'}, {'ID': 14, 'Category': 'Party'}, {'ID': 15, 'Category': 'Causes'}, {'ID': 16, 'Category': 'Drinks'}, {'ID': 17, 'Category': 'Games'}, {'ID': 18, 'Category': 'Fitness'}]\n"
     ]
    }
   ],
   "source": [
    "#enumerate the categories and create a new JSON file\n",
    "facebook_categories = []\n",
    "x = 1\n",
    "for cat in unique_list:\n",
    "    cat_name = cat\n",
    "    cat_id = x\n",
    "    x = x + 1\n",
    "    \n",
    "    category = {'ID': cat_id, 'Category': cat_name}\n",
    "#     print(category)\n",
    "    facebook_categories.append(category)\n",
    "    \n",
    "with open('Facebook_categories.json','w') as f:\n",
    "    json.dump(facebook_categories,f,indent=4)\n",
    "print(facebook_categories)  "
   ]
  },
  {
   "cell_type": "code",
   "execution_count": 31,
   "metadata": {},
   "outputs": [],
   "source": [
    "# impute the new category IDs in the Facebook_events file\n",
    "for i in file:\n",
    "    category_ids = []\n",
    "    item_list = i['Categories']\n",
    "    for cat in item_list:\n",
    "        for j in facebook_categories:\n",
    "            if cat == j['Category']:\n",
    "                cat =  j['ID']\n",
    "                category_ids.append(cat)\n",
    "    i['Category_ids'] = category_ids\n",
    "           \n",
    "with open('Facebook_data_final.json','w') as f:\n",
    "    json.dump(file,f,indent=4)  "
   ]
  },
  {
   "cell_type": "code",
   "execution_count": 32,
   "metadata": {},
   "outputs": [
    {
     "data": {
      "text/plain": [
       "{'Host': 'Go to the link',\n",
       " 'Type': 'None',\n",
       " 'Title': 'Your Skills And Jobs Online Week',\n",
       " 'From_time': '2001-11-30 13:00:00+00:00',\n",
       " 'To_time': '2020-12-04 15:00:00+01:00',\n",
       " 'Description': 'At a time when the digital and green transitions are rapidly changing the way we work, the European Commission’s Directorate-General for Employment, Social Affairs and Inclusion (DG EMPL) is happy to present a unique online Open Week on ‘Your Skills and Jobs’, with different activities organised in digital format from 30 November to 4 December!\\nFind out what the EU is doing to help you find jobs and manage your career\\nFor 5 days - whether you are a student, a young person looking for a first job, an experienced worker or an entrepreneur -, you will get a chance to share experience and receive advice from experts on drafting your CV, on job and apprenticeships opportunities, on skills, and much more\\n13 live chats with job experts\\n2 quizzes on your green & digital skills\\nA unique opportunity to WIN a 1-hour personal counselling session with a career guidance practitioner from the Euroguidance network (www.euroguidance.eu)\\nFind out more on the programme below and pick your sessions NOW!\\nTo keep up-to-date with all ‘Your Skills And Jobs’ announcements, follow this event!\\n#YourSkillsAndJobs\\n-----------------------------------------------------------------------------\\nLive Chats Programme\\nMonday 30 November\\n1:00 - 1:30 PM: Eurowhat? Europass, the tool to manage your career in Europe! Europass demonstration – Session in Portuguese\\nEuropass is the tool to manage your career in Europe! Create your CV, job applications, manage your credentials, get suggestions for training and job vacancies that fit your profile and more!\\nIn this demonstration, a Europass expert will show the main features of the tool and explain how to use it to get jobs and manage your career.\\nSpeaker:\\nPedro Chaves, Europass Project Officer, European Commission\\nModerator:\\nPedro Amorim, Policy Officer, European Commission\\nIn the meantime, watch this short clip and discover 5 reasons why you should use Europass\\nhttps://bit.ly/Europass5\\nAnd listen to Danay explain how Europass has benefitted him\\nhttps://bit.ly/EuropassDanay\\nMore info on Europass\\nhttps://europa.eu/europass/en\\n\\n2:00 - 2:45 PM: Youth Guarantee your path to employment! – Session in French\\nThe Youth Guarantee is your path to employment! Are you under 29 and looking for a job or a training opportunity? The Youth Guarantee is a commitment by all Member States to ensure that all young people receive a good quality offer of:\\n• employment\\n• continued education\\n• apprenticeship\\n• traineeship\\nMore particularly, within a period of 4 months of becoming unemployed or leaving formal education. In this live chat, a job coach will explain how she is helping young people to find jobs.\\nSpeakers:\\nCaroline Ravaux, Job Coach, Actiris\\nModerator:\\nMathilde Grosjean, Communication Officer, European Commission\\nCurious about the Youth Guarantee programme? Listen to Theodora’s experience\\nhttps://bit.ly/YouthGuarant\\nMore info on the Youth Guarantee\\nhttps://bit.ly/YouthGuarant1\\n\\n\\nTuesday 1 December\\n12.00 - 12:30 PM: Entrepreneurship, is this something for you? – Session in Greek\\nHave you ever thought of creating your own company? Would you like inspiration on different ways to do it?\\nA young entrepreneur will share his experience and reply to the audience’s questions.\\nSpeaker:\\nStefanos Alexopoulos, Benelux Owner and Head of International Department, Coco-MAT.bike\\nModerator, Dimitrios Pikios, Policy Officer, European Commission\\n\\n1:00 - 1:45 PM: How social is the European Social Fund? – Session in French\\nThe European Social Fund (ESF) was created in the founding Treaty of Rome in 1957. With EUR 10 billion a year, the ESF supports employment, improved education and better chances for all. In this session, our experts will discuss with the audience about how the ESF is helping people and creating a more inclusive society in the EU.\\nSpeakers:\\nBenjamin Fontaine, ESF Programme Manager, European Commission\\nIsabelle Maquet, Deputy Head of Unit, European Commission\\nModerator:\\nMathilde Grosjean, Communication Officer, European Commission\\nKeen on knowing more about it? Watch this short clip & discover what the European Social Fund is\\nhttps://bit.ly/EUSocialFund\\nMore info on the European Social Fund\\nhttps://ec.europa.eu/esf/home.jsp\\n\\n2:30 - 3:00 PM: Eurowhat? Europass, the tool to manage your career in Europe! Europass demonstration – Session in Croatian\\nEuropass is the tool to manage your career in Europe! Create your CV, job applications, manage your credentials, get suggestions for training and job vacancies that fit your profile and more! In this demonstration, a Europass expert will show the main features of the tool and explain how to use it to get jobs and manage your career.\\nSpeakers:\\nHrvoje Grganović, Europass Project Officer, European Commission\\nModerator: Mia Trcol, Project Manager, Euroguidance Croatia\\nInterested in this session? Watch this short clip and discover 5 reasons why you should use Europass\\nhttps://bit.ly/Europass5\\nAnd listen to Danay explain how Europass has benefitted him\\nhttps://bit.ly/EuropassDanay\\nMore info on Europass\\nhttps://europa.eu/europass/en\\n\\n\\nWednesday 2 December\\n12.30 - 1:00 PM: The EU Skills Agenda explained– Session in English\\nSkills, skills and more skills: your key to success! Find out how the EU is helping people acquire new skills and find their way in the labour market. In this live chat, a Commission expert will explain the New Skills Agenda: a five-year plan for competitiveness, social fairness and resilience that will help shape the labour market in the EU.\\nSpeaker:\\nAlison Crabb, Head of Unit, European Commission\\nModerator:\\nJennifer Baker, EU policy and Tech Journalist\\nWant to know more on the European Skills Agenda? Watch this short video\\nhttps://bit.ly/SkillsAgenda1\\nMore info on EU Skills Agenda\\nhttps://bit.ly/SkillsAgenda2\\n\\n1:30 - 2:00 PM: Eurowhat? Europass, the tool to manage your career in Europe! Europass demonstration – Session in German\\nEuropass is the tool to manage your career in Europe! Create your CV, job applications, manage your credentials, get suggestions for training and job vacancies that fit your profile and more! In this demonstration, a Europass expert will show the main features of the tool and explain how to use it to get jobs and manage your career.\\nSpeaker:\\nAlessandra Enzi, National Europass Centre, Austria\\nModerator:\\nKarin Kammerling, Communication Trainee, European Commission\\nWatch this short clip to discover 5 reasons why you should use Europass\\nhttps://bit.ly/Europass5\\nAnd listen to Danay explain how Europass has benefitted him\\nhttps://bit.ly/EuropassDanay\\nMore info on Europass\\nhttps://europa.eu/europass/en\\n\\n2:30 - 3:00 PM: Apprenticeships, from learning to working – Session in German\\nThere are more ways to get a job than a university degree. Find out how apprenticeships can help you get the skills and experience you need to access the labour market. Our speaker will share his personal experience as an apprentice.\\nSpeaker:\\nMattäus Fandrejewski, Youth representative, European Confederation of Independent Trade Unions\\nModerator:\\nKarin Kammerling, Communication Trainee, European Commission\\nDiscover how apprenticeships can benefit society by watching this video\\nhttps://bit.ly/EuApprent\\nAnd listen to Saskia and Rafael’s story on their apprenticeships:\\nhttps://bit.ly/EUApprent1\\nhttps://bit.ly/EUApprent2\\n\\n\\nThursday 3 December\\n12.30 - 1:00 PM: Eurowhat? Europass, the tool to manage your career in Europe! Europass demonstration – Session in Greek\\nEuropass is the tool to manage your career in Europe! Create your CV, job applications, manage your credentials, get suggestions for training and job vacancies that fit your profile and more! In this demonstration, a Europass expert will show the main features of the tool and explain how to use it to get jobs and manage your career.\\nSpeaker:\\nStavroula Doulami, Coordinator, Hellenic National Europass Center\\nModerator:\\nDimitris Maragos, Hellenic National Europass Center\\nDiscover 5 reasons why you should use Europass in this video\\nhttps://bit.ly/Europass5\\nAnd listen to Danay explain how Europass has benefitted him\\nhttps://bit.ly/EuropassDanay\\nMore info on Europass\\nhttps://europa.eu/europass/en\\n\\n1:30-2:15 PM: How EaSI is it to find a job? Talk to the experts– Session in English\\nAre you interested in working in another EU country? Is social entrepreneurship something for you? Have you heard about microfinance opportunities? Find out with our experts how the EU programme for Employment and Social Innovation (EaSI) is boosting employment and creating fair conditions for all in the labour market.\\nSpeakers:\\nHenk Visser, EaSI Programme Coordinator, European Commission\\nSarah O’Brien, Cross-border Coordinator, EURES Scheldemond\\nMartin Rijk, Advisor, EURES\\nAmira Bieber, Pro Arbeit-Kreis Offenbach\\nModerator:\\nElena Pascual Jiménez, Communication Officer, European Commission\\nKeen on discovering EaSI? Start by watching this video!\\nhttps://bit.ly/EaSIInfo\\nMore info on EaSI\\nhttps://bit.ly/EaSIInfo1\\nMore info on Eures\\nhttps://bit.ly/EURESjob1\\n\\n2:45-3:15 PM: Eurowhat? Europass, the tool to manage your career in Europe! Europass demonstration – Session in Spanish\\nEuropass is the tool to manage your career in Europe! Create your CV, job applications, manage your credentials, get suggestions for training and job vacancies that fit your profile and more! In this demonstration, a Europass expert will show the main features of the tool and explain how to use it to get jobs and manage your career.\\nSpeaker:\\nDavid Delgado, Coordinator, National Europass Centre of Spain\\nModerator:\\nElena Pascual Jiménez, Communication Officer, European Commission\\nIn the meantime, watch this short clip and discover 5 reasons why you should use Europass\\nhttps://bit.ly/Europass5\\nAnd listen to Danay explain how Europass has benefitted him\\nhttps://bit.ly/EuropassDanay\\nMore info on Europass\\nhttps://europa.eu/europass/en\\n\\n\\nFriday 4 December\\n1:00 - 1:30 PM: Eurowhat? Europass, the tool to manage your career in Europe! Europass demonstration – Session in French\\nEuropass is the tool to manage your career in Europe! Create your CV, job applications, manage your credentials, get suggestions for training and job vacancies that fit your profile and more! In this demonstration, a Europass expert will show the main features of the tool and explain how to use it to get jobs and manage your career.\\nSpeaker:\\nMarielle Gaudin, Coordinator, National Europass Centre of France\\nModerator:\\nMathilde Grosjean, Communication Officer, European Commission\\nCurious about Europass? Watch this short clip and discover 5 reasons why you should use it\\nhttps://bit.ly/Europass5\\nAnd listen to Danay explain how Europass has benefitted him\\nhttps://bit.ly/EuropassDanay\\nMore info on Europass\\nhttps://europa.eu/europass/en\\n\\n2:00 - 2:45 PM: “Your skills and jobs” Closing Panel Debate – Session in English\\nLast chance to discuss jobs and skills with our experts! Don’t miss out on the closing debate of “Your skills and jobs”! Some experts that were present during the week will share their thoughts on challenges and opportunities of the labour market.\\nSpeakers:\\nAlison Crabb, Head of Unit, European Commission\\nHenk Visser, EaSI Programme Coordinator, European Commission\\nPedro Chaves, Europass Project Officer, European Commission\\nModerator:\\nJennifer Baker, EU policy and Tech Journalist',\n",
       " 'Location': 'Facebook Live',\n",
       " 'Link': 'https://www.facebook.com/events/119061183165620/',\n",
       " 'Image': 'https://scontent-mxp1-1.xx.fbcdn.net/v/t1.0-9/s960x960/126325044_10158944878969120_4375788245910561106_o.jpg?_nc_cat=101&ccb=2&_nc_sid=340051&_nc_ohc=-3D86pmQVYsAX9ujcA_&_nc_ht=scontent-mxp1-1.xx&tp=7&oh=20cef716e2302a74240584c465bafafe&oe=5FEAC339',\n",
       " 'Interested': '1.6K',\n",
       " 'Going': '367',\n",
       " 'Categories': ['Other', 'Online', 'Live Video'],\n",
       " 'Category_ids': [3, 2, 4]}"
      ]
     },
     "execution_count": 32,
     "metadata": {},
     "output_type": "execute_result"
    }
   ],
   "source": [
    "file[1]"
   ]
  },
  {
   "cell_type": "code",
   "execution_count": null,
   "metadata": {},
   "outputs": [],
   "source": []
  }
 ],
 "metadata": {
  "kernelspec": {
   "display_name": "Python 3",
   "language": "python",
   "name": "python3"
  },
  "language_info": {
   "codemirror_mode": {
    "name": "ipython",
    "version": 3
   },
   "file_extension": ".py",
   "mimetype": "text/x-python",
   "name": "python",
   "nbconvert_exporter": "python",
   "pygments_lexer": "ipython3",
   "version": "3.7.6"
  }
 },
 "nbformat": 4,
 "nbformat_minor": 4
}
