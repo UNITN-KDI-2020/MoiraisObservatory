{
 "cells": [
  {
   "cell_type": "code",
   "execution_count": 158,
   "metadata": {},
   "outputs": [],
   "source": [
    "## Author- Eva Agrawal\n",
    "## Date- 14/12/2020\n",
    "## Description- Script to clean the data, split the hosts field into 'Host Name' & 'Host_prof'\n",
    "#               split the time into 'From time' and 'To time' and convert it into standard format"
   ]
  },
  {
   "cell_type": "code",
   "execution_count": 159,
   "metadata": {},
   "outputs": [],
   "source": [
    "import json\n",
    "import os\n",
    "import re\n",
    "import pandas as pd\n",
    "from dictor import dictor\n",
    "import dateparser as dp"
   ]
  },
  {
   "cell_type": "code",
   "execution_count": 160,
   "metadata": {},
   "outputs": [],
   "source": [
    "# Opening JSON file \n",
    "with open(os.path.expanduser('~/Desktop/facebook_event_data.json')) as f:\n",
    "    file = json.load(f)"
   ]
  },
  {
   "cell_type": "code",
   "execution_count": 161,
   "metadata": {},
   "outputs": [],
   "source": [
    "items = []\n",
    "for i in file:\n",
    "\n",
    "# Split the hosts field into 'Host name' and 'Host Prof'    \n",
    "    host_list = i['hosts']\n",
    "    host_list1 = str(host_list)\n",
    "    if any (\"Host\\n\" in s for s in host_list):\n",
    "        host_txt = host_list[0][5:]\n",
    "        host = host_txt.split('\\n')\n",
    "        host_name = host[0]\n",
    "#         print(host_name)\n",
    "        host_prof = host[1]\n",
    "# If Hosts contain detailed text, search for 'Hosted by' and get the succeeding value    \n",
    "    elif any (\"Hosted by\" in s for s in host_list):\n",
    "        hosts = host_list[0][0:]\n",
    "#         print(hosts)\n",
    "        hosts_text = re.search(r'Hosted by(.*?)\\n', hosts).group(1)\n",
    "#         print((text))\n",
    "        host_name = hosts_text\n",
    "        host_prof = \"None\"\n",
    "    else:\n",
    "        host_name = \"Go to the link\"\n",
    "        host_prof = \"None\"\n",
    "    title = i['title']  \n",
    "    \n",
    "# Split the time into 'From time' & 'To Time' and convert the time into standard format   \n",
    "    time = i['time']\n",
    "    time_list = time.split('–')\n",
    "    time_begin = time_list[0]\n",
    "    from_time = str(dp.parse(time_begin))\n",
    "    time_end = time_list[1]\n",
    "    to_time = str(dp.parse(time_end))\n",
    "    \n",
    "    desc = i['description']\n",
    "    location = i['location']\n",
    "    link = i['link']\n",
    "    image = i['image']\n",
    "    interested = i['interested']\n",
    "    going = i['going']\n",
    "    categories = i['categories']\n",
    "        \n",
    "    item = {'Host': host_name, 'Type': host_prof,\n",
    "             'Title': title,'From_time': from_time, 'To_time': to_time, 'Description': desc, \n",
    "             'Location': location,'Link': link,'Image': image, \n",
    "             'Interested': interested, 'Going': going, 'Categories': categories}\n",
    "    items.append(item)\n",
    "#     print(item)\n",
    "with open('Facebook_events_clean.json','w') as f:\n",
    "    json.dump(items,f,indent=4)         \n",
    "        \n",
    "\n",
    "    \n"
   ]
  },
  {
   "cell_type": "code",
   "execution_count": null,
   "metadata": {},
   "outputs": [],
   "source": []
  }
 ],
 "metadata": {
  "kernelspec": {
   "display_name": "Python 3",
   "language": "python",
   "name": "python3"
  },
  "language_info": {
   "codemirror_mode": {
    "name": "ipython",
    "version": 3
   },
   "file_extension": ".py",
   "mimetype": "text/x-python",
   "name": "python",
   "nbconvert_exporter": "python",
   "pygments_lexer": "ipython3",
   "version": "3.7.6"
  }
 },
 "nbformat": 4,
 "nbformat_minor": 4
}
