{
 "cells": [
  {
   "cell_type": "code",
   "execution_count": 69,
   "metadata": {},
   "outputs": [],
   "source": [
    "## Author- Eva Agrawal\n",
    "## Date- 14/12/2020\n",
    "## Description- Script to enumerate the 'Category' field and add 'Category_ID' \n",
    "##              in the cleaned dataset for Data Integration"
   ]
  },
  {
   "cell_type": "code",
   "execution_count": 70,
   "metadata": {},
   "outputs": [],
   "source": [
    "import json\n",
    "import os"
   ]
  },
  {
   "cell_type": "code",
   "execution_count": 71,
   "metadata": {},
   "outputs": [],
   "source": [
    "# Opening JSON file \n",
    "with open(os.path.expanduser('~/Desktop/Datasets/Tour_data.json')) as f:\n",
    "    file = json.load(f)"
   ]
  },
  {
   "cell_type": "code",
   "execution_count": 72,
   "metadata": {},
   "outputs": [
    {
     "name": "stdout",
     "output_type": "stream",
     "text": [
      "7\n"
     ]
    }
   ],
   "source": [
    "#make a set of all the unique categories \n",
    "unique_cat = set(item['category'] for item in file)\n",
    "\n",
    "unique_cat = list(unique_cat)\n",
    "\n",
    "print(len(unique_cat))"
   ]
  },
  {
   "cell_type": "code",
   "execution_count": 73,
   "metadata": {},
   "outputs": [],
   "source": [
    "#enumerate the categories and create a new JSON file\n",
    "tour_categories = []\n",
    "x = 1\n",
    "for cat in unique_cat:\n",
    "    cat_name = cat\n",
    "    cat_id = x\n",
    "    x = x + 1\n",
    "    \n",
    "    catageory = {'ID': cat_id, 'Category': cat_name}\n",
    "    tour_categories.append(catageory)\n",
    "#     print(tour_categories)\n",
    "    \n",
    "with open('Tour_categories.json','w') as f:\n",
    "    json.dump(tour_categories,f,indent=4)     "
   ]
  },
  {
   "cell_type": "code",
   "execution_count": 74,
   "metadata": {},
   "outputs": [
    {
     "name": "stdout",
     "output_type": "stream",
     "text": [
      "[{'ID': 1, 'Category': 'Day Trips'}, {'ID': 2, 'Category': 'Climbing'}, {'ID': 3, 'Category': 'Mountain Bike Tours'}, {'ID': 4, 'Category': 'Yoga Classes'}, {'ID': 5, 'Category': 'Nature and Wildlife'}, {'ID': 6, 'Category': 'Hiking'}, {'ID': 7, 'Category': 'Extreme'}]\n"
     ]
    }
   ],
   "source": [
    "print(tour_categories)"
   ]
  },
  {
   "cell_type": "code",
   "execution_count": 75,
   "metadata": {},
   "outputs": [],
   "source": [
    "# impute the new category IDs in the Tour_data file\n",
    "new_file = []\n",
    "for item in file:\n",
    "    for category in tour_categories:\n",
    "        if item['category'] == category['Category']:\n",
    "            item['category'] =  category['ID']\n",
    "#             print(item)\n",
    "    new_file.append(item)            \n",
    "           \n",
    "with open('Tour_data_new.json','w') as f:\n",
    "    json.dump(new_file,f,indent=4)        "
   ]
  },
  {
   "cell_type": "code",
   "execution_count": null,
   "metadata": {},
   "outputs": [],
   "source": []
  }
 ],
 "metadata": {
  "kernelspec": {
   "display_name": "Python 3",
   "language": "python",
   "name": "python3"
  },
  "language_info": {
   "codemirror_mode": {
    "name": "ipython",
    "version": 3
   },
   "file_extension": ".py",
   "mimetype": "text/x-python",
   "name": "python",
   "nbconvert_exporter": "python",
   "pygments_lexer": "ipython3",
   "version": "3.7.6"
  }
 },
 "nbformat": 4,
 "nbformat_minor": 4
}
